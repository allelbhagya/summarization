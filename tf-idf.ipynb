{
 "cells": [
  {
   "cell_type": "markdown",
   "id": "9fd3fbd4",
   "metadata": {},
   "source": [
    "tf-idf + cosine similarity"
   ]
  },
  {
   "cell_type": "code",
   "execution_count": 3,
   "id": "9c4e5226",
   "metadata": {},
   "outputs": [
    {
     "name": "stdout",
     "output_type": "stream",
     "text": [
      "rank 1: The quick brown fox jumps over the lazy dog.\n",
      "rank 2: The dog is lazy but friendly.\n",
      "rank 3: A brown fox is quick and jumps.\n",
      "rank 4: Lazy dogs are not quick.\n"
     ]
    }
   ],
   "source": [
    "import nltk\n",
    "import numpy as np\n",
    "from sklearn.metrics.pairwise import cosine_similarity\n",
    "from sklearn.feature_extraction.text import *\n",
    "\n",
    "sentences = [\n",
    "    \"The quick brown fox jumps over the lazy dog.\",\n",
    "    \"A brown fox is quick and jumps.\",\n",
    "    \"The dog is lazy but friendly.\",\n",
    "    \"Lazy dogs are not quick.\",\n",
    "]\n",
    "\n",
    "def sentence_cosine_similarity(sentence1, sentence2):\n",
    "    vectorizer = TfidfVectorizer()\n",
    "    sentence_vectors = vectorizer.fit_transform([sentence1, sentence2])\n",
    "    similarity = cosine_similarity(sentence_vectors[0], sentence_vectors[1])[0][0]\n",
    "    return similarity\n",
    "\n",
    "reference_sentence = \"The quick brown fox jumps over the lazy dog.\"\n",
    "\n",
    "similarities = [sentence_cosine_similarity(reference_sentence, sentence) for sentence in sentences]\n",
    "\n",
    "ranked_sentences = [sentence for _, sentence in sorted(zip(similarities, sentences), reverse=True)]\n",
    "\n",
    "for i, sentence in enumerate(ranked_sentences):\n",
    "    print(f\"rank {i + 1}: {sentence}\")"
   ]
  }
 ],
 "metadata": {
  "kernelspec": {
   "display_name": ".venv",
   "language": "python",
   "name": "python3"
  },
  "language_info": {
   "codemirror_mode": {
    "name": "ipython",
    "version": 3
   },
   "file_extension": ".py",
   "mimetype": "text/x-python",
   "name": "python",
   "nbconvert_exporter": "python",
   "pygments_lexer": "ipython3",
   "version": "3.10.18"
  }
 },
 "nbformat": 4,
 "nbformat_minor": 5
}
