{
 "cells": [
  {
   "cell_type": "markdown",
   "id": "47b0b5d9",
   "metadata": {},
   "source": [
    "steps:\n",
    "- preprocessing\n",
    "- sentence similarity\n",
    "- similarity matrix\n",
    "- graph based ranking\n",
    "- summary generation"
   ]
  },
  {
   "cell_type": "code",
   "execution_count": 31,
   "id": "59367151",
   "metadata": {},
   "outputs": [],
   "source": [
    "text = \"\"\"The Importance of Environmental Conservation The environment is a precious gift that we often take for granted. It provides us with clean air to breathe, fresh water to drink, and a habitat for countless species. However, in recent decades, human activities have taken a toll on our environment, leading to serious consequences such as climate change, loss of biodiversity, and pollution. This has made environmental conservation more critical than ever before.\n",
    "\n",
    "1. Biodiversity Preservation\n",
    "\n",
    "One of the primary reasons for environmental conservation is the preservation of biodiversity. Our planet is home to an incredible array of species, each playing a unique role in the ecosystem. When habitats are destroyed or polluted, many species face the threat of extinction. Protecting these species not only ensures their survival but also maintains the delicate balance of ecosystems upon which we depend for food, clean water, and a stable climate.\n",
    "\n",
    "2. Climate Change Mitigation\n",
    "\n",
    "The burning of fossil fuels, deforestation, and industrial processes release greenhouse gases into the atmosphere, leading to global warming and climate change. Environmental conservation efforts, such as reforestation, sustainable energy sources, and reduced emissions, play a crucial role in mitigating climate change. By protecting natural carbon sinks like forests and wetlands, we can slow down the rate of global warming and reduce its catastrophic effects.\n",
    "\n",
    "3. Sustainable Resource Management\n",
    "\n",
    "Natural resources like water, forests, and minerals are finite. Environmental conservation practices promote sustainable resource management, ensuring that we don't deplete these resources faster than they can regenerate. Sustainable practices not only benefit the environment but also support the long-term economic and social well-being of communities.\n",
    "\n",
    "4. Clean Air and Water\n",
    "\n",
    "Clean air and water are essential for human health and well-being. Pollution from industrial and agricultural sources can contaminate our air and water supplies, leading to serious health problems. Conservation efforts aim to reduce pollution and protect these vital resources, ensuring that future generations can enjoy a healthy and safe environment.\n",
    "\n",
    "5. Cultural and Recreational Value\n",
    "\n",
    "Natural landscapes hold immense cultural and recreational value. They provide opportunities for outdoor activities, tourism, and cultural practices. By conserving our natural heritage, we preserve the beauty and wonder of our planet for future generations to appreciate and enjoy.\n",
    "\n",
    "6. Economic Benefits\n",
    "\n",
    "Environmental conservation is not just about protecting nature; it's also about smart economics. Healthy ecosystems provide essential services, such as pollination, water purification, and soil fertility, which underpin agriculture and other industries. Conserving these services saves money and supports economic growth in the long run.\n",
    "\n",
    "In conclusion, environmental conservation is not a luxury but a necessity. It's a responsibility that we all share to ensure a sustainable future for ourselves and the generations to come. By protecting our environment, we can safeguard the planet's biodiversity, mitigate climate change, and enjoy the countless benefits that nature provides. Every small effort counts, whether it's reducing personal carbon footprint, supporting conservation organizations, or advocating for sustainable policies. Together, we can make a difference and protect the world we call home.\"\"\""
   ]
  },
  {
   "cell_type": "code",
   "execution_count": 32,
   "id": "4bc1a7e4",
   "metadata": {},
   "outputs": [
    {
     "name": "stderr",
     "output_type": "stream",
     "text": [
      "[nltk_data] Downloading package punkt to /Users/bhagya/nltk_data...\n",
      "[nltk_data]   Package punkt is already up-to-date!\n",
      "[nltk_data] Downloading package stopwords to\n",
      "[nltk_data]     /Users/bhagya/nltk_data...\n",
      "[nltk_data]   Package stopwords is already up-to-date!\n"
     ]
    },
    {
     "data": {
      "text/plain": [
       "True"
      ]
     },
     "execution_count": 32,
     "metadata": {},
     "output_type": "execute_result"
    }
   ],
   "source": [
    "import nltk\n",
    "from nltk.corpus import stopwords\n",
    "from nltk.cluster.util import cosine_distance\n",
    "\n",
    "import numpy as np\n",
    "import networkx as nx\n",
    "\n",
    "nltk.download('punkt')\n",
    "nltk.download('stopwords')"
   ]
  },
  {
   "cell_type": "code",
   "execution_count": 33,
   "id": "9599d0cd",
   "metadata": {},
   "outputs": [],
   "source": [
    "def preprocess_text(text):\n",
    "    sentences = nltk.sent_tokenize(text)\n",
    "    word_freq = {}\n",
    "    stop_words = set(stopwords.words('english'))\n",
    "    for s in sentences:\n",
    "        words = nltk.word_tokenize(s.lower())\n",
    "        for word in stop_words:\n",
    "            if word not in word_freq:\n",
    "                word_freq[word] = 1\n",
    "            else:\n",
    "                word_freq[word]+=1\n",
    "    max_freq = max(word_freq.values())\n",
    "    for word in word_freq.keys():\n",
    "        word_freq[word] = word_freq[word]/max_freq\n",
    "    return sentences, word_freq"
   ]
  },
  {
   "cell_type": "code",
   "execution_count": 34,
   "id": "bdd8f7ca",
   "metadata": {},
   "outputs": [],
   "source": [
    "def similarity(sentence1, sentence2, word_freq):\n",
    "    words1 = nltk.word_tokenize(sentence1)\n",
    "    words2 = nltk.word_tokenize(sentence2)\n",
    "\n",
    "    common_words = [word for word in words1 if word in words2]\n",
    "    similarity_score = sum([word_freq.get(word, 0) for word in common_words])\n",
    "    return similarity_score"
   ]
  },
  {
   "cell_type": "code",
   "execution_count": 35,
   "id": "b2058fa0",
   "metadata": {},
   "outputs": [],
   "source": [
    "\n",
    "def build_matrix(sentences, word_freq):\n",
    "    num_sentences = len(sentences)\n",
    "    similarity_matrix = np.zeros((num_sentences, num_sentences))\n",
    "    for i in range(num_sentences):\n",
    "        for j in range(num_sentences):\n",
    "            if i != j:\n",
    "                similarity_matrix[i][j] = similarity(sentences[i], sentences[j], word_freq)\n",
    "    return similarity_matrix"
   ]
  },
  {
   "cell_type": "code",
   "execution_count": 36,
   "id": "d286903d",
   "metadata": {},
   "outputs": [],
   "source": [
    "def generate_summary(text, num_sentences):\n",
    "    sentences, word_freq = preprocess_text(text)\n",
    "    similarity_matrix = build_matrix(sentences, word_freq)\n",
    "    nx_graph = nx.from_numpy_array(similarity_matrix)\n",
    "    scores = nx.pagerank(nx_graph)\n",
    "    ranked_sentences = sorted(((scores[i], sentence) for i, sentence in enumerate(sentences)), reverse=True)\n",
    "    summary = \" \".join([sentence for score, sentence in ranked_sentences[:num_sentences]])\n",
    "    return summary"
   ]
  },
  {
   "cell_type": "code",
   "execution_count": 37,
   "id": "b2eedb39",
   "metadata": {},
   "outputs": [
    {
     "data": {
      "text/plain": [
       "\"Protecting these species not only ensures their survival but also maintains the delicate balance of ecosystems upon which we depend for food, clean water, and a stable climate. By conserving our natural heritage, we preserve the beauty and wonder of our planet for future generations to appreciate and enjoy. It's a responsibility that we all share to ensure a sustainable future for ourselves and the generations to come. However, in recent decades, human activities have taken a toll on our environment, leading to serious consequences such as climate change, loss of biodiversity, and pollution. By protecting natural carbon sinks like forests and wetlands, we can slow down the rate of global warming and reduce its catastrophic effects.\""
      ]
     },
     "execution_count": 37,
     "metadata": {},
     "output_type": "execute_result"
    }
   ],
   "source": [
    "generate_summary(text = text, num_sentences=5)"
   ]
  }
 ],
 "metadata": {
  "kernelspec": {
   "display_name": ".venv",
   "language": "python",
   "name": "python3"
  },
  "language_info": {
   "codemirror_mode": {
    "name": "ipython",
    "version": 3
   },
   "file_extension": ".py",
   "mimetype": "text/x-python",
   "name": "python",
   "nbconvert_exporter": "python",
   "pygments_lexer": "ipython3",
   "version": "3.10.18"
  }
 },
 "nbformat": 4,
 "nbformat_minor": 5
}
